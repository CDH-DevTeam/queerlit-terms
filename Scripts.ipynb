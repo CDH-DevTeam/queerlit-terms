{
 "cells": [
  {
   "cell_type": "code",
   "execution_count": null,
   "id": "ac060ee1",
   "metadata": {},
   "outputs": [],
   "source": [
    "from rdflib import Graph, Literal\n",
    "from rdflib.namespace import RDF, SKOS\n",
    "\n",
    "g = Graph()\n",
    "g.parse('qlit.ttl')\n",
    "terms = list(g.subjects(RDF.type, SKOS.Concept))\n",
    "\n",
    "print(len(g), 'triples')\n",
    "print(len(terms), 'terms')"
   ]
  },
  {
   "cell_type": "code",
   "execution_count": null,
   "id": "6cfbe569",
   "metadata": {},
   "outputs": [],
   "source": [
    "import pandas as pd"
   ]
  },
  {
   "cell_type": "code",
   "execution_count": null,
   "id": "386deef3",
   "metadata": {
    "scrolled": false
   },
   "outputs": [],
   "source": [
    "for term in terms:\n",
    "    prefLabel = next(g.objects(term, SKOS.prefLabel))\n",
    "    altLabels = '|'.join(g.objects(term, SKOS.altLabel))\n",
    "    scopeNote = next(g.objects(term, SKOS.scopeNote))\n",
    "    print(f'{prefLabel}\\t{altLabels}\\t{scopeNote}')"
   ]
  }
 ],
 "metadata": {
  "kernelspec": {
   "display_name": "Python 3 (ipykernel)",
   "language": "python",
   "name": "python3"
  },
  "language_info": {
   "codemirror_mode": {
    "name": "ipython",
    "version": 3
   },
   "file_extension": ".py",
   "mimetype": "text/x-python",
   "name": "python",
   "nbconvert_exporter": "python",
   "pygments_lexer": "ipython3",
   "version": "3.9.10"
  }
 },
 "nbformat": 4,
 "nbformat_minor": 5
}
